{
 "cells": [
  {
   "cell_type": "code",
   "execution_count": 2,
   "metadata": {},
   "outputs": [
    {
     "name": "stderr",
     "output_type": "stream",
     "text": [
      "/home/prasoon/anaconda3/lib/python3.6/site-packages/h5py/__init__.py:34: FutureWarning: Conversion of the second argument of issubdtype from `float` to `np.floating` is deprecated. In future, it will be treated as `np.float64 == np.dtype(float).type`.\n",
      "  from ._conv import register_converters as _register_converters\n"
     ]
    }
   ],
   "source": [
    "%matplotlib inline\n",
    "import pandas as pd\n",
    "import numpy as np\n",
    "import tensorflow as tf\n",
    "import matplotlib.pyplot as plt"
   ]
  },
  {
   "cell_type": "code",
   "execution_count": 3,
   "metadata": {
    "collapsed": true
   },
   "outputs": [],
   "source": [
    "df = pd.read_csv(\"Desktop/train (4).csv\")\n",
    "\n"
   ]
  },
  {
   "cell_type": "code",
   "execution_count": 4,
   "metadata": {
    "collapsed": true
   },
   "outputs": [],
   "source": [
    "X_train_orig = np.array(df.loc[:,'pixel0':]).reshape(42000,28,28)"
   ]
  },
  {
   "cell_type": "code",
   "execution_count": 5,
   "metadata": {
    "collapsed": true
   },
   "outputs": [],
   "source": [
    "Y_train_orig=np.array(df.loc[:,['label']]).reshape(42000,1)"
   ]
  },
  {
   "cell_type": "code",
   "execution_count": 6,
   "metadata": {},
   "outputs": [
    {
     "name": "stdout",
     "output_type": "stream",
     "text": [
      "y = 5\n"
     ]
    },
    {
     "data": {
      "image/png": "[encoded data removed]",
      "text/plain": [
       "<matplotlib.figure.Figure at 0x7f7a9aa3a780>"
      ]
     },
     "metadata": {},
     "output_type": "display_data"
    }
   ],
   "source": [
    "index = 8\n",
    "plt.imshow(X_train_orig[index])\n",
    "print (\"y = \" + str(np.squeeze(Y_train_orig[index])))"
   ]
  },
  {
   "cell_type": "code",
   "execution_count": 7,
   "metadata": {
    "collapsed": true
   },
   "outputs": [],
   "source": [
    "X_train_flatten = X_train_orig.reshape(X_train_orig.shape[0],-1).T\n",
    "#Y_train_flatten = Y_train_orig.reshape(Y_train_orig.shape[0],-1).T"
   ]
  },
  {
   "cell_type": "code",
   "execution_count": 8,
   "metadata": {
    "collapsed": true
   },
   "outputs": [],
   "source": [
    "X_train_flatten_new = X_train_flatten[:,0:33600]\n",
    "X_test_flatten_new = X_train_flatten[:,33600:42000]\n",
    "Y_train_flatten_new = Y_train_orig[0:33600,:]\n",
    "Y_test_flatten_new = Y_train_orig[33600:42000,:]"
   ]
  },
  {
   "cell_type": "code",
   "execution_count": 9,
   "metadata": {
    "collapsed": true
   },
   "outputs": [],
   "source": [
    "X_train = X_train_flatten_new/255\n",
    "X_test = X_test_flatten_new/255"
   ]
  },
  {
   "cell_type": "code",
   "execution_count": 10,
   "metadata": {
    "collapsed": true
   },
   "outputs": [],
   "source": [
    "Y_train = tf.Session().run(tf.one_hot(Y_train_flatten_new,10,axis=1)).reshape(33600,10).T\n",
    "Y_test = tf.Session().run(tf.one_hot(Y_test_flatten_new,10,axis=1)).reshape(8400,10).T"
   ]
  },
  {
   "cell_type": "code",
   "execution_count": 11,
   "metadata": {
    "collapsed": true
   },
   "outputs": [],
   "source": [
    "def create_placeholders(n_x,n_y):\n",
    "    X = tf.placeholder(tf.float32,shape=[n_x,None],name='X')\n",
    "    Y = tf.placeholder(tf.float32,shape=[n_y,None],name='Y')\n",
    "    return X,Y"
   ]
  },
  {
   "cell_type": "code",
   "execution_count": 12,
   "metadata": {
    "collapsed": true
   },
   "outputs": [],
   "source": [
    "def initialize_parameters(layers_dims):\n",
    "    parameters={}\n",
    "    for l in range(len(layers_dims)-1):\n",
    "        parameters[\"W\"+str(l+1)] = tf.get_variable('W'+str(l+1),[layers_dims[l+1],layers_dims[l]],initializer = tf.contrib.layers.xavier_initializer())\n",
    "        parameters[\"b\"+str(l+1)] = tf.get_variable(\"b\"+str(l+1),[layers_dims[l+1],1],initializer = tf.zeros_initializer())\n",
    "    return parameters"
   ]
  },
  {
   "cell_type": "code",
   "execution_count": 13,
   "metadata": {
    "collapsed": true
   },
   "outputs": [],
   "source": [
    "def forward_propagation(X,parameters,layers_dims):\n",
    "    cache = {}\n",
    "    cache[\"A0\"] = X\n",
    "    for l in range(len(layers_dims)-1):\n",
    "        cache[\"Z\"+str(l+1)] = tf.add(tf.matmul(parameters[\"W\"+str(l+1)],cache[\"A\"+str(l)]),parameters[\"b\"+str(l+1)])\n",
    "        if (l == len(layers_dims)-2):\n",
    "            return cache[\"Z\"+str(l+1)]\n",
    "        cache[\"A\"+str(l+1)] = tf.nn.relu(cache[\"Z\"+str(l+1)])\n",
    "        "
   ]
  },
  {
   "cell_type": "code",
   "execution_count": 159,
   "metadata": {},
   "outputs": [],
   "source": [
    "def forward_propagation_with_dropout(X,parameters,layers_dims,keep_prob):\n",
    "    cache = {}\n",
    "    cache[\"A0\"] = X\n",
    "    for l in range(len(layers_dims)-1):\n",
    "        cache[\"Z\"+str(l+1)] = tf.add(tf.matmul(parameters[\"W\"+str(l+1)],cache[\"A\"+str(l)]),parameters[\"b\"+str(l+1)])\n",
    "        if (l == len(layers_dims)-2):\n",
    "            return cache[\"Z\"+str(l+1)]\n",
    "        cache[\"A\"+str(l+1)] = tf.nn.relu(cache[\"Z\"+str(l+1)])\n",
    "        D1 = tf.random_uniform([tf.shape(cache[\"A\"+str(l+1)],out_type=tf.int32)[0],tf.shape(cache[\"A\"+str(l+1)],out_type=tf.int32)[1]],dtype = tf.float32)\n",
    "        cache[\"A\"+str(l+1)] = tf.multiply(cache[\"A\"+str(l+1)],tf.cast(tf.greater(keep_prob,D1),dtype=tf.float32))\n",
    "        \n",
    "        \n",
    "    "
   ]
  },
  {
   "cell_type": "code",
   "execution_count": 160,
   "metadata": {
    "collapsed": true
   },
   "outputs": [],
   "source": [
    "def compute_cost(ZL,Y):\n",
    "    cost = tf.reduce_mean(tf.nn.softmax_cross_entropy_with_logits(logits = tf.transpose(ZL), labels = tf.transpose(Y)))\n",
    "    return cost"
   ]
  },
  {
   "cell_type": "code",
   "execution_count": 161,
   "metadata": {
    "collapsed": true
   },
   "outputs": [],
   "source": [
    "def random_minibatch(X_train,Y_train,minibatch_size,num_minibatches):\n",
    "    minibatches = []\n",
    "    random_shuffle = np.concatenate((X_train.T,Y_train.T),axis=1)\n",
    "    np.random.shuffle(random_shuffle)\n",
    "    random_shuffle_X = random_shuffle[:,0:X_train.shape[0]].T\n",
    "    random_shuffle_Y = random_shuffle[:,X_train.shape[0]:X_train.shape[0]+Y_train.shape[0]].T\n",
    "    for i in range(num_minibatches):\n",
    "        minibatch_X = random_shuffle_X[:,i*minibatch_size:minibatch_size*(i+1)]\n",
    "        minibatch_Y = random_shuffle_Y[:,i*minibatch_size:minibatch_size*(i+1)]\n",
    "        minibatch = (minibatch_X,minibatch_Y)\n",
    "        minibatches.append(minibatch)\n",
    "    if (Y_train.shape[1]/num_minibatches != 0):\n",
    "        minibatch_X = random_shuffle_X[:,num_minibatches*minibatch_size:X_train.shape[1]]\n",
    "        minibatch_Y = random_shuffle_Y[:,num_minibatches*minibatch_size:Y_train.shape[1]]\n",
    "        minibatch = (minibatch_X,minibatch_Y)\n",
    "        minibatches.append(minibatch)\n",
    "    return minibatches"
   ]
  },
  {
   "cell_type": "code",
   "execution_count": 162,
   "metadata": {
    "collapsed": true
   },
   "outputs": [],
   "source": [
    "def l2_regularize(unreg_cost,parameters,layers_dims,m):\n",
    "    reg_fac = 0\n",
    "    for l in range(len(layers_dims)-1):\n",
    "        reg_fac = reg_fac + 0.01 * tf.nn.l2_loss(parameters[\"W\"+str(l+1)])\n",
    "    cost = unreg_cost+reg_fac\n",
    "    return cost\n",
    "    "
   ]
  },
  {
   "cell_type": "code",
   "execution_count": 169,
   "metadata": {
    "collapsed": true
   },
   "outputs": [],
   "source": [
    "def model(X_train,Y_train,X_test,Y_test,learning_rate,num_epochs,minibatch_size,print_cost,layers_dims):\n",
    "    tf.reset_default_graph()\n",
    "    (n_x,m) = X_train.shape\n",
    "    n_y = Y_train.shape[0]\n",
    "    costs =[]\n",
    "    X,Y = create_placeholders(n_x,n_y)\n",
    "    parameters = initialize_parameters(layers_dims)\n",
    "    ZL = forward_propagation_with_dropout(X,parameters,layers_dims,0.9)\n",
    "    unreg_cost = compute_cost(ZL,Y)\n",
    "    cost = l2_regularize(unreg_cost,parameters,layers_dims,m)\n",
    "    optimizer = tf.train.AdamOptimizer(learning_rate = learning_rate).minimize(cost)\n",
    "    init = tf.global_variables_initializer()\n",
    "    num_minibatches = int(m/minibatch_size)\n",
    "    with tf.Session() as sess:\n",
    "        sess.run(init)\n",
    "        for epoch in range(num_epochs):\n",
    "            epoch_cost = 0\n",
    "            minibatches = random_minibatch(X_train,Y_train,minibatch_size,num_minibatches)\n",
    "            for minibatch in minibatches:\n",
    "                (minibatch_X,minibatch_Y) = minibatch\n",
    "                _,minibatch_cost = sess.run([optimizer,cost],feed_dict={X:minibatch_X,Y:minibatch_Y})\n",
    "                epoch_cost = epoch_cost + minibatch_cost/num_minibatches\n",
    "            if print_cost == True and epoch % 100 == 0:\n",
    "                print (\"Cost after epoch %i: %f\" % (epoch, epoch_cost))\n",
    "            if print_cost == True and epoch % 5 == 0:\n",
    "                costs.append(epoch_cost)\n",
    "        plt.plot(np.squeeze(costs))\n",
    "        plt.ylabel('cost')\n",
    "        plt.xlabel('iterations (per tens)')\n",
    "        plt.title(\"Learning rate =\" + str(learning_rate))\n",
    "        plt.show()\n",
    "        correct_prediction = tf.equal(tf.argmax(ZL), tf.argmax(Y))\n",
    "        accuracy = tf.reduce_mean(tf.cast(correct_prediction, \"float\"))\n",
    "        print (\"Train Accuracy:\", accuracy.eval({X: X_train, Y: Y_train}))\n",
    "        print (\"Test Accuracy:\", accuracy.eval({X: X_test, Y: Y_test}))\n",
    "                \n",
    "            \n",
    "            "
   ]
  },
  {
   "cell_type": "code",
   "execution_count": 170,
   "metadata": {},
   "outputs": [
    {
     "name": "stdout",
     "output_type": "stream",
     "text": [
      "Cost after epoch 0: 2.718211\n",
      "Cost after epoch 100: 1.933508\n",
      "Cost after epoch 200: 1.854489\n",
      "Cost after epoch 300: 1.745906\n",
      "Cost after epoch 400: 1.730195\n",
      "Cost after epoch 500: 1.658184\n",
      "Cost after epoch 600: 1.641287\n",
      "Cost after epoch 700: 1.748532\n",
      "Cost after epoch 800: 1.701064\n",
      "Cost after epoch 900: 1.645317\n",
      "Cost after epoch 1000: 1.619886\n",
      "Cost after epoch 1100: 1.640772\n",
      "Cost after epoch 1200: 1.634021\n",
      "Cost after epoch 1300: 1.734708\n",
      "Cost after epoch 1400: 1.755577\n"
     ]
    },
    {
     "data": {
      "image/png": "[encoded data removed]",
      "text/plain": [
       "<matplotlib.figure.Figure at 0x7f7a4de47128>"
      ]
     },
     "metadata": {},
     "output_type": "display_data"
    },
    {
     "name": "stdout",
     "output_type": "stream",
     "text": [
      "Train Accuracy: 0.66\n",
      "Test Accuracy: 0.47\n"
     ]
    }
   ],
   "source": [
    "parameters = model(a,b,c,d,0.001,1500,64,True,[X_train.shape[0],2,10])"
   ]
  },
  {
   "cell_type": "code",
   "execution_count": null,
   "metadata": {
    "collapsed": true
   },
   "outputs": [],
   "source": [
    "a = X_train[:,0:400]\n",
    "b = Y_train[:,0:400]"
   ]
  },
  {
   "cell_type": "code",
   "execution_count": 98,
   "metadata": {
    "collapsed": true
   },
   "outputs": [],
   "source": [
    "c = X_test[:,0:100]\n",
    "d = Y_test[:,0:100]"
   ]
  }
 ],
 "metadata": {
  "kernelspec": {
   "display_name": "Python 3",
   "language": "python",
   "name": "python3"
  },
  "language_info": {
   "codemirror_mode": {
    "name": "ipython",
    "version": 3
   },
   "file_extension": ".py",
   "mimetype": "text/x-python",
   "name": "python",
   "nbconvert_exporter": "python",
   "pygments_lexer": "ipython3",
   "version": "3.6.1"
  }
 },
 "nbformat": 4,
 "nbformat_minor": 2
}

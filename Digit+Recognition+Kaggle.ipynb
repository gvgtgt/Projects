{
 "cells": [
  {
   "cell_type": "code",
   "execution_count": 53,
   "metadata": {},
   "outputs": [],
   "source": [
    "%matplotlib inline\n",
    "import pandas as pd\n",
    "import numpy as np\n",
    "import tensorflow as tf\n",
    "import matplotlib.pyplot as plt"
   ]
  },
  {
   "cell_type": "code",
   "execution_count": 54,
   "metadata": {
    "collapsed": true
   },
   "outputs": [],
   "source": [
    "df = pd.read_csv(\"Desktop/train (4).csv\")\n",
    "\n"
   ]
  },
  {
   "cell_type": "code",
   "execution_count": 55,
   "metadata": {
    "collapsed": true
   },
   "outputs": [],
   "source": [
    "X_train_orig = np.array(df.loc[:,'pixel0':]).reshape(42000,28,28)"
   ]
  },
  {
   "cell_type": "code",
   "execution_count": 56,
   "metadata": {
    "collapsed": true
   },
   "outputs": [],
   "source": [
    "Y_train_orig=np.array(df.loc[:,['label']]).reshape(42000,1)"
   ]
  },
  {
   "cell_type": "code",
   "execution_count": 57,
   "metadata": {},
   "outputs": [
    {
     "name": "stdout",
     "output_type": "stream",
     "text": [
      "y = 5\n"
     ]
    },
    {
     "data": {
      "image/png": "[encoded data removed]",
      "text/plain": [
       "<matplotlib.figure.Figure at 0x7f9c5da7b7f0>"
      ]
     },
     "metadata": {},
     "output_type": "display_data"
    }
   ],
   "source": [
    "index = 8\n",
    "plt.imshow(X_train_orig[index])\n",
    "print (\"y = \" + str(np.squeeze(Y_train_orig[index])))"
   ]
  },
  {
   "cell_type": "code",
   "execution_count": 58,
   "metadata": {
    "collapsed": true
   },
   "outputs": [],
   "source": [
    "X_train_flatten = X_train_orig.reshape(X_train_orig.shape[0],-1).T\n",
    "#Y_train_flatten = Y_train_orig.reshape(Y_train_orig.shape[0],-1).T"
   ]
  },
  {
   "cell_type": "code",
   "execution_count": 59,
   "metadata": {
    "collapsed": true
   },
   "outputs": [],
   "source": [
    "X_train_flatten_new = X_train_flatten[:,0:33600]\n",
    "X_test_flatten_new = X_train_flatten[:,33600:42000]\n",
    "Y_train_flatten_new = Y_train_orig[0:33600,:]\n",
    "Y_test_flatten_new = Y_train_orig[33600:42000,:]"
   ]
  },
  {
   "cell_type": "code",
   "execution_count": 60,
   "metadata": {
    "collapsed": true
   },
   "outputs": [],
   "source": [
    "X_train = X_train_flatten_new/255\n",
    "X_test = X_test_flatten_new/255"
   ]
  },
  {
   "cell_type": "code",
   "execution_count": null,
   "metadata": {
    "collapsed": true
   },
   "outputs": [],
   "source": []
  },
  {
   "cell_type": "code",
   "execution_count": 61,
   "metadata": {
    "collapsed": true
   },
   "outputs": [],
   "source": [
    "Y_train = tf.Session().run(tf.one_hot(Y_train_flatten_new,10,axis=1)).reshape(33600,10).T\n",
    "Y_test = tf.Session().run(tf.one_hot(Y_test_flatten_new,10,axis=1)).reshape(8400,10).T"
   ]
  },
  {
   "cell_type": "code",
   "execution_count": 62,
   "metadata": {
    "collapsed": true
   },
   "outputs": [],
   "source": [
    "def create_placeholders(n_x,n_y):\n",
    "    X = tf.placeholder(tf.float32,shape=[n_x,None],name='X')\n",
    "    Y = tf.placeholder(tf.float32,shape=[n_y,None],name='Y')\n",
    "    return X,Y"
   ]
  },
  {
   "cell_type": "code",
   "execution_count": 63,
   "metadata": {
    "collapsed": true
   },
   "outputs": [],
   "source": [
    "def initialize_parameters(layers_dims):\n",
    "    parameters={}\n",
    "    for l in range(len(layers_dims)-1):\n",
    "        parameters[\"W\"+str(l+1)] = tf.get_variable('W'+str(l+1),[layers_dims[l+1],layers_dims[l]],initializer = tf.contrib.layers.xavier_initializer())\n",
    "        parameters[\"b\"+str(l+1)] = tf.get_variable(\"b\"+str(l+1),[layers_dims[l+1],1],initializer = tf.zeros_initializer())\n",
    "    return parameters"
   ]
  },
  {
   "cell_type": "code",
   "execution_count": 78,
   "metadata": {
    "collapsed": true
   },
   "outputs": [],
   "source": [
    "def forward_propagation(X,parameters,layers_dims):\n",
    "    cache = {}\n",
    "    cache[\"A0\"] = X\n",
    "    for l in range(len(layers_dims)-1):\n",
    "        cache[\"Z\"+str(l+1)] = tf.add(tf.matmul(parameters[\"W\"+str(l+1)],cache[\"A\"+str(l)]),parameters[\"b\"+str(l+1)])\n",
    "        if (l == len(layers_dims)-2):\n",
    "            return cache[\"Z\"+str(l+1)]\n",
    "        cache[\"A\"+str(l+1)] = tf.nn.relu(cache[\"Z\"+str(l+1)])\n",
    "        "
   ]
  },
  {
   "cell_type": "code",
   "execution_count": 79,
   "metadata": {
    "collapsed": true
   },
   "outputs": [],
   "source": [
    "#def l2_reg(parameters,layers_dims)"
   ]
  },
  {
   "cell_type": "code",
   "execution_count": 80,
   "metadata": {
    "collapsed": true
   },
   "outputs": [],
   "source": [
    "def compute_cost(ZL,Y):\n",
    "    cost = tf.reduce_mean(tf.nn.softmax_cross_entropy_with_logits(logits = tf.transpose(ZL), labels = tf.transpose(Y)))\n",
    "    return cost"
   ]
  },
  {
   "cell_type": "code",
   "execution_count": 81,
   "metadata": {
    "collapsed": true
   },
   "outputs": [],
   "source": [
    "def random_minibatch(X_train,Y_train,minibatch_size,num_minibatches):\n",
    "    minibatches = []\n",
    "    random_shuffle = np.concatenate((X_train.T,Y_train.T),axis=1)\n",
    "    np.random.shuffle(random_shuffle)\n",
    "    random_shuffle_X = random_shuffle[:,0:X_train.shape[0]].T\n",
    "    random_shuffle_Y = random_shuffle[:,X_train.shape[0]:X_train.shape[0]+Y_train.shape[0]].T\n",
    "    for i in range(num_minibatches):\n",
    "        minibatch_X = random_shuffle_X[:,i*minibatch_size:minibatch_size*(i+1)]\n",
    "        minibatch_Y = random_shuffle_Y[:,i*minibatch_size:minibatch_size*(i+1)]\n",
    "        minibatch = (minibatch_X,minibatch_Y)\n",
    "        minibatches.append(minibatch)\n",
    "    if (Y_train.shape[1]/num_minibatches != 0):\n",
    "        minibatch_X = random_shuffle_X[:,num_minibatches*minibatch_size:X_train.shape[1]]\n",
    "        minibatch_Y = random_shuffle_Y[:,num_minibatches*minibatch_size:Y_train.shape[1]]\n",
    "        minibatch = (minibatch_X,minibatch_Y)\n",
    "        minibatches.append(minibatch)\n",
    "    return minibatches"
   ]
  },
  {
   "cell_type": "code",
   "execution_count": null,
   "metadata": {
    "collapsed": true
   },
   "outputs": [],
   "source": [
    "\n",
    "    "
   ]
  },
  {
   "cell_type": "code",
   "execution_count": 82,
   "metadata": {
    "collapsed": true
   },
   "outputs": [],
   "source": [
    "def model(X_train,Y_train,X_test,Y_test,learning_rate,num_epochs,minibatch_size,print_cost,layers_dims):\n",
    "    tf.reset_default_graph()\n",
    "    (n_x,m) = X_train.shape\n",
    "    n_y = Y_train.shape[0]\n",
    "    costs =[]\n",
    "    X,Y = create_placeholders(n_x,n_y)\n",
    "    parameters = initialize_parameters(layers_dims)\n",
    "    ZL = forward_propagation(X,parameters,layers_dims)\n",
    "    cost = compute_cost(ZL,Y)\n",
    "    optimizer = tf.train.AdamOptimizer(learning_rate = learning_rate).minimize(cost)\n",
    "    init = tf.global_variables_initializer()\n",
    "    num_minibatches = int(m/minibatch_size)\n",
    "    with tf.Session() as sess:\n",
    "        sess.run(init)\n",
    "        for epoch in range(num_epochs):\n",
    "            epoch_cost = 0\n",
    "            minibatches = random_minibatch(X_train,Y_train,minibatch_size,num_minibatches)\n",
    "            for minibatch in minibatches:\n",
    "                (minibatch_X,minibatch_Y) = minibatch\n",
    "                _,minibatch_cost = sess.run([optimizer,cost],feed_dict={X:minibatch_X,Y:minibatch_Y})\n",
    "                epoch_cost = epoch_cost + minibatch_cost/num_minibatches\n",
    "            if print_cost == True and epoch % 100 == 0:\n",
    "                print (\"Cost after epoch %i: %f\" % (epoch, epoch_cost))\n",
    "            if print_cost == True and epoch % 5 == 0:\n",
    "                costs.append(epoch_cost)\n",
    "        plt.plot(np.squeeze(costs))\n",
    "        plt.ylabel('cost')\n",
    "        plt.xlabel('iterations (per tens)')\n",
    "        plt.title(\"Learning rate =\" + str(learning_rate))\n",
    "        plt.show()\n",
    "        correct_prediction = tf.equal(tf.argmax(ZL), tf.argmax(Y))\n",
    "        accuracy = tf.reduce_mean(tf.cast(correct_prediction, \"float\"))\n",
    "        print (\"Train Accuracy:\", accuracy.eval({X: X_train, Y: Y_train}))\n",
    "        print (\"Test Accuracy:\", accuracy.eval({X: X_test, Y: Y_test}))\n",
    "                \n",
    "            \n",
    "            "
   ]
  },
  {
   "cell_type": "code",
   "execution_count": null,
   "metadata": {},
   "outputs": [
    {
     "name": "stdout",
     "output_type": "stream",
     "text": [
      "Cost after epoch 0: 2.720495\n",
      "Cost after epoch 100: 2.169467\n",
      "Cost after epoch 200: 1.978657\n",
      "Cost after epoch 300: 1.867760\n",
      "Cost after epoch 400: 1.780733\n",
      "Cost after epoch 500: 1.734947\n",
      "Cost after epoch 600: 1.719247\n",
      "Cost after epoch 700: 1.636610\n",
      "Cost after epoch 800: 1.613276\n",
      "Cost after epoch 900: 1.637361\n",
      "Cost after epoch 1000: 1.571470\n",
      "Cost after epoch 1100: 1.556801\n",
      "Cost after epoch 1200: 1.494420\n",
      "Cost after epoch 1300: 1.470562\n",
      "Cost after epoch 1400: 1.467237\n"
     ]
    }
   ],
   "source": [
    "model(a,b,c,d,0.001,1500,64,True,[X_train.shape[0],2,10])"
   ]
  },
  {
   "cell_type": "code",
   "execution_count": 70,
   "metadata": {
    "collapsed": true
   },
   "outputs": [],
   "source": [
    "a = X_train[:,0:400]\n",
    "b = Y_train[:,0:400]"
   ]
  },
  {
   "cell_type": "code",
   "execution_count": 71,
   "metadata": {
    "collapsed": true
   },
   "outputs": [],
   "source": [
    "c = X_test[:,0:400]\n",
    "d = Y_test[:,0:400]"
   ]
  },
  {
   "cell_type": "code",
   "execution_count": null,
   "metadata": {
    "collapsed": true
   },
   "outputs": [],
   "source": [
    "X_train.shape"
   ]
  },
  {
   "cell_type": "code",
   "execution_count": null,
   "metadata": {
    "collapsed": true
   },
   "outputs": [],
   "source": [
    "Y_train.shape"
   ]
  },
  {
   "cell_type": "raw",
   "metadata": {},
   "source": [
    "X_test.shape"
   ]
  },
  {
   "cell_type": "code",
   "execution_count": null,
   "metadata": {
    "collapsed": true
   },
   "outputs": [],
   "source": [
    "X_test.shape"
   ]
  },
  {
   "cell_type": "code",
   "execution_count": null,
   "metadata": {
    "collapsed": true
   },
   "outputs": [],
   "source": [
    "Y_test.shape"
   ]
  },
  {
   "cell_type": "code",
   "execution_count": null,
   "metadata": {
    "collapsed": true
   },
   "outputs": [],
   "source": []
  }
 ],
 "metadata": {
  "kernelspec": {
   "display_name": "Python 3",
   "language": "python",
   "name": "python3"
  },
  "language_info": {
   "codemirror_mode": {
    "name": "ipython",
    "version": 3
   },
   "file_extension": ".py",
   "mimetype": "text/x-python",
   "name": "python",
   "nbconvert_exporter": "python",
   "pygments_lexer": "ipython3",
   "version": "3.6.1"
  }
 },
 "nbformat": 4,
 "nbformat_minor": 2
}

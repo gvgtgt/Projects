{
 "cells": [
  {
   "cell_type": "code",
   "execution_count": 52,
   "metadata": {
    "collapsed": true
   },
   "outputs": [],
   "source": [
    "%matplotlib inline\n",
    "import pandas as pd\n",
    "import numpy as np\n",
    "import matplotlib.pyplot as plt\n",
    "from sklearn.cross_validation import train_test_split\n",
    "from sklearn.preprocessing import StandardScaler\n",
    "import lightgbm as lgb"
   ]
  },
  {
   "cell_type": "code",
   "execution_count": 2,
   "metadata": {
    "collapsed": true
   },
   "outputs": [],
   "source": [
    "df = pd.read_csv(\"Desktop/sales_train_v2.csv\")"
   ]
  },
  {
   "cell_type": "code",
   "execution_count": 3,
   "metadata": {
    "scrolled": true
   },
   "outputs": [
    {
     "data": {
      "text/html": [
       "<div>\n",
       "<style>\n",
       "    .dataframe thead tr:only-child th {\n",
       "        text-align: right;\n",
       "    }\n",
       "\n",
       "    .dataframe thead th {\n",
       "        text-align: left;\n",
       "    }\n",
       "\n",
       "    .dataframe tbody tr th {\n",
       "        vertical-align: top;\n",
       "    }\n",
       "</style>\n",
       "<table border=\"1\" class=\"dataframe\">\n",
       "  <thead>\n",
       "    <tr style=\"text-align: right;\">\n",
       "      <th></th>\n",
       "      <th>date</th>\n",
       "      <th>date_block_num</th>\n",
       "      <th>shop_id</th>\n",
       "      <th>item_id</th>\n",
       "      <th>item_price</th>\n",
       "      <th>item_cnt_day</th>\n",
       "    </tr>\n",
       "  </thead>\n",
       "  <tbody>\n",
       "    <tr>\n",
       "      <th>0</th>\n",
       "      <td>02.01.2013</td>\n",
       "      <td>0</td>\n",
       "      <td>59</td>\n",
       "      <td>22154</td>\n",
       "      <td>999.00</td>\n",
       "      <td>1.0</td>\n",
       "    </tr>\n",
       "    <tr>\n",
       "      <th>1</th>\n",
       "      <td>03.01.2013</td>\n",
       "      <td>0</td>\n",
       "      <td>25</td>\n",
       "      <td>2552</td>\n",
       "      <td>899.00</td>\n",
       "      <td>1.0</td>\n",
       "    </tr>\n",
       "    <tr>\n",
       "      <th>2</th>\n",
       "      <td>05.01.2013</td>\n",
       "      <td>0</td>\n",
       "      <td>25</td>\n",
       "      <td>2552</td>\n",
       "      <td>899.00</td>\n",
       "      <td>-1.0</td>\n",
       "    </tr>\n",
       "    <tr>\n",
       "      <th>3</th>\n",
       "      <td>06.01.2013</td>\n",
       "      <td>0</td>\n",
       "      <td>25</td>\n",
       "      <td>2554</td>\n",
       "      <td>1709.05</td>\n",
       "      <td>1.0</td>\n",
       "    </tr>\n",
       "    <tr>\n",
       "      <th>4</th>\n",
       "      <td>15.01.2013</td>\n",
       "      <td>0</td>\n",
       "      <td>25</td>\n",
       "      <td>2555</td>\n",
       "      <td>1099.00</td>\n",
       "      <td>1.0</td>\n",
       "    </tr>\n",
       "  </tbody>\n",
       "</table>\n",
       "</div>"
      ],
      "text/plain": [
       "         date  date_block_num  shop_id  item_id  item_price  item_cnt_day\n",
       "0  02.01.2013               0       59    22154      999.00           1.0\n",
       "1  03.01.2013               0       25     2552      899.00           1.0\n",
       "2  05.01.2013               0       25     2552      899.00          -1.0\n",
       "3  06.01.2013               0       25     2554     1709.05           1.0\n",
       "4  15.01.2013               0       25     2555     1099.00           1.0"
      ]
     },
     "execution_count": 3,
     "metadata": {},
     "output_type": "execute_result"
    }
   ],
   "source": [
    "df.head()"
   ]
  },
  {
   "cell_type": "code",
   "execution_count": 4,
   "metadata": {
    "collapsed": true
   },
   "outputs": [],
   "source": [
    "df1 = pd.read_csv(\"Desktop/shops.csv\")"
   ]
  },
  {
   "cell_type": "code",
   "execution_count": 5,
   "metadata": {},
   "outputs": [
    {
     "data": {
      "text/html": [
       "<div>\n",
       "<style>\n",
       "    .dataframe thead tr:only-child th {\n",
       "        text-align: right;\n",
       "    }\n",
       "\n",
       "    .dataframe thead th {\n",
       "        text-align: left;\n",
       "    }\n",
       "\n",
       "    .dataframe tbody tr th {\n",
       "        vertical-align: top;\n",
       "    }\n",
       "</style>\n",
       "<table border=\"1\" class=\"dataframe\">\n",
       "  <thead>\n",
       "    <tr style=\"text-align: right;\">\n",
       "      <th></th>\n",
       "      <th>shop_name</th>\n",
       "      <th>shop_id</th>\n",
       "    </tr>\n",
       "  </thead>\n",
       "  <tbody>\n",
       "    <tr>\n",
       "      <th>0</th>\n",
       "      <td>!Якутск Орджоникидзе, 56 фран</td>\n",
       "      <td>0</td>\n",
       "    </tr>\n",
       "    <tr>\n",
       "      <th>1</th>\n",
       "      <td>!Якутск ТЦ \"Центральный\" фран</td>\n",
       "      <td>1</td>\n",
       "    </tr>\n",
       "    <tr>\n",
       "      <th>2</th>\n",
       "      <td>Адыгея ТЦ \"Мега\"</td>\n",
       "      <td>2</td>\n",
       "    </tr>\n",
       "    <tr>\n",
       "      <th>3</th>\n",
       "      <td>Балашиха ТРК \"Октябрь-Киномир\"</td>\n",
       "      <td>3</td>\n",
       "    </tr>\n",
       "    <tr>\n",
       "      <th>4</th>\n",
       "      <td>Волжский ТЦ \"Волга Молл\"</td>\n",
       "      <td>4</td>\n",
       "    </tr>\n",
       "  </tbody>\n",
       "</table>\n",
       "</div>"
      ],
      "text/plain": [
       "                        shop_name  shop_id\n",
       "0   !Якутск Орджоникидзе, 56 фран        0\n",
       "1   !Якутск ТЦ \"Центральный\" фран        1\n",
       "2                Адыгея ТЦ \"Мега\"        2\n",
       "3  Балашиха ТРК \"Октябрь-Киномир\"        3\n",
       "4        Волжский ТЦ \"Волга Молл\"        4"
      ]
     },
     "execution_count": 5,
     "metadata": {},
     "output_type": "execute_result"
    }
   ],
   "source": [
    "df1.head()"
   ]
  },
  {
   "cell_type": "code",
   "execution_count": 6,
   "metadata": {
    "collapsed": true
   },
   "outputs": [],
   "source": [
    "df2 = pd.read_csv(\"Desktop/items (1).csv\")"
   ]
  },
  {
   "cell_type": "code",
   "execution_count": 7,
   "metadata": {},
   "outputs": [
    {
     "data": {
      "text/html": [
       "<div>\n",
       "<style>\n",
       "    .dataframe thead tr:only-child th {\n",
       "        text-align: right;\n",
       "    }\n",
       "\n",
       "    .dataframe thead th {\n",
       "        text-align: left;\n",
       "    }\n",
       "\n",
       "    .dataframe tbody tr th {\n",
       "        vertical-align: top;\n",
       "    }\n",
       "</style>\n",
       "<table border=\"1\" class=\"dataframe\">\n",
       "  <thead>\n",
       "    <tr style=\"text-align: right;\">\n",
       "      <th></th>\n",
       "      <th>item_name</th>\n",
       "      <th>item_id</th>\n",
       "      <th>item_category_id</th>\n",
       "    </tr>\n",
       "  </thead>\n",
       "  <tbody>\n",
       "    <tr>\n",
       "      <th>0</th>\n",
       "      <td>! ВО ВЛАСТИ НАВАЖДЕНИЯ (ПЛАСТ.)         D</td>\n",
       "      <td>0</td>\n",
       "      <td>40</td>\n",
       "    </tr>\n",
       "    <tr>\n",
       "      <th>1</th>\n",
       "      <td>!ABBYY FineReader 12 Professional Edition Full...</td>\n",
       "      <td>1</td>\n",
       "      <td>76</td>\n",
       "    </tr>\n",
       "    <tr>\n",
       "      <th>2</th>\n",
       "      <td>***В ЛУЧАХ СЛАВЫ   (UNV)                    D</td>\n",
       "      <td>2</td>\n",
       "      <td>40</td>\n",
       "    </tr>\n",
       "    <tr>\n",
       "      <th>3</th>\n",
       "      <td>***ГОЛУБАЯ ВОЛНА  (Univ)                      D</td>\n",
       "      <td>3</td>\n",
       "      <td>40</td>\n",
       "    </tr>\n",
       "    <tr>\n",
       "      <th>4</th>\n",
       "      <td>***КОРОБКА (СТЕКЛО)                       D</td>\n",
       "      <td>4</td>\n",
       "      <td>40</td>\n",
       "    </tr>\n",
       "  </tbody>\n",
       "</table>\n",
       "</div>"
      ],
      "text/plain": [
       "                                           item_name  item_id  \\\n",
       "0          ! ВО ВЛАСТИ НАВАЖДЕНИЯ (ПЛАСТ.)         D        0   \n",
       "1  !ABBYY FineReader 12 Professional Edition Full...        1   \n",
       "2      ***В ЛУЧАХ СЛАВЫ   (UNV)                    D        2   \n",
       "3    ***ГОЛУБАЯ ВОЛНА  (Univ)                      D        3   \n",
       "4        ***КОРОБКА (СТЕКЛО)                       D        4   \n",
       "\n",
       "   item_category_id  \n",
       "0                40  \n",
       "1                76  \n",
       "2                40  \n",
       "3                40  \n",
       "4                40  "
      ]
     },
     "execution_count": 7,
     "metadata": {},
     "output_type": "execute_result"
    }
   ],
   "source": [
    "df2.head()"
   ]
  },
  {
   "cell_type": "code",
   "execution_count": 8,
   "metadata": {
    "collapsed": true
   },
   "outputs": [],
   "source": [
    "df_test = pd.read_csv(\"Desktop/test.csv\")"
   ]
  },
  {
   "cell_type": "code",
   "execution_count": 9,
   "metadata": {
    "scrolled": true
   },
   "outputs": [
    {
     "data": {
      "text/html": [
       "<div>\n",
       "<style>\n",
       "    .dataframe thead tr:only-child th {\n",
       "        text-align: right;\n",
       "    }\n",
       "\n",
       "    .dataframe thead th {\n",
       "        text-align: left;\n",
       "    }\n",
       "\n",
       "    .dataframe tbody tr th {\n",
       "        vertical-align: top;\n",
       "    }\n",
       "</style>\n",
       "<table border=\"1\" class=\"dataframe\">\n",
       "  <thead>\n",
       "    <tr style=\"text-align: right;\">\n",
       "      <th></th>\n",
       "      <th>ID</th>\n",
       "      <th>shop_id</th>\n",
       "      <th>item_id</th>\n",
       "    </tr>\n",
       "  </thead>\n",
       "  <tbody>\n",
       "    <tr>\n",
       "      <th>0</th>\n",
       "      <td>0</td>\n",
       "      <td>5</td>\n",
       "      <td>5037</td>\n",
       "    </tr>\n",
       "    <tr>\n",
       "      <th>1</th>\n",
       "      <td>1</td>\n",
       "      <td>5</td>\n",
       "      <td>5320</td>\n",
       "    </tr>\n",
       "    <tr>\n",
       "      <th>2</th>\n",
       "      <td>2</td>\n",
       "      <td>5</td>\n",
       "      <td>5233</td>\n",
       "    </tr>\n",
       "    <tr>\n",
       "      <th>3</th>\n",
       "      <td>3</td>\n",
       "      <td>5</td>\n",
       "      <td>5232</td>\n",
       "    </tr>\n",
       "    <tr>\n",
       "      <th>4</th>\n",
       "      <td>4</td>\n",
       "      <td>5</td>\n",
       "      <td>5268</td>\n",
       "    </tr>\n",
       "  </tbody>\n",
       "</table>\n",
       "</div>"
      ],
      "text/plain": [
       "   ID  shop_id  item_id\n",
       "0   0        5     5037\n",
       "1   1        5     5320\n",
       "2   2        5     5233\n",
       "3   3        5     5232\n",
       "4   4        5     5268"
      ]
     },
     "execution_count": 9,
     "metadata": {},
     "output_type": "execute_result"
    }
   ],
   "source": [
    "df_test.head()"
   ]
  },
  {
   "cell_type": "code",
   "execution_count": 10,
   "metadata": {
    "collapsed": true
   },
   "outputs": [],
   "source": [
    "df_3 = pd.read_csv(\"Desktop/item_categories (1).csv\")"
   ]
  },
  {
   "cell_type": "code",
   "execution_count": 11,
   "metadata": {},
   "outputs": [
    {
     "data": {
      "text/html": [
       "<div>\n",
       "<style>\n",
       "    .dataframe thead tr:only-child th {\n",
       "        text-align: right;\n",
       "    }\n",
       "\n",
       "    .dataframe thead th {\n",
       "        text-align: left;\n",
       "    }\n",
       "\n",
       "    .dataframe tbody tr th {\n",
       "        vertical-align: top;\n",
       "    }\n",
       "</style>\n",
       "<table border=\"1\" class=\"dataframe\">\n",
       "  <thead>\n",
       "    <tr style=\"text-align: right;\">\n",
       "      <th></th>\n",
       "      <th>item_category_name</th>\n",
       "      <th>item_category_id</th>\n",
       "    </tr>\n",
       "  </thead>\n",
       "  <tbody>\n",
       "    <tr>\n",
       "      <th>0</th>\n",
       "      <td>PC - Гарнитуры/Наушники</td>\n",
       "      <td>0</td>\n",
       "    </tr>\n",
       "    <tr>\n",
       "      <th>1</th>\n",
       "      <td>Аксессуары - PS2</td>\n",
       "      <td>1</td>\n",
       "    </tr>\n",
       "    <tr>\n",
       "      <th>2</th>\n",
       "      <td>Аксессуары - PS3</td>\n",
       "      <td>2</td>\n",
       "    </tr>\n",
       "    <tr>\n",
       "      <th>3</th>\n",
       "      <td>Аксессуары - PS4</td>\n",
       "      <td>3</td>\n",
       "    </tr>\n",
       "    <tr>\n",
       "      <th>4</th>\n",
       "      <td>Аксессуары - PSP</td>\n",
       "      <td>4</td>\n",
       "    </tr>\n",
       "  </tbody>\n",
       "</table>\n",
       "</div>"
      ],
      "text/plain": [
       "        item_category_name  item_category_id\n",
       "0  PC - Гарнитуры/Наушники                 0\n",
       "1         Аксессуары - PS2                 1\n",
       "2         Аксессуары - PS3                 2\n",
       "3         Аксессуары - PS4                 3\n",
       "4         Аксессуары - PSP                 4"
      ]
     },
     "execution_count": 11,
     "metadata": {},
     "output_type": "execute_result"
    }
   ],
   "source": [
    "df_3.head()"
   ]
  },
  {
   "cell_type": "code",
   "execution_count": null,
   "metadata": {
    "collapsed": true
   },
   "outputs": [],
   "source": []
  },
  {
   "cell_type": "code",
   "execution_count": 99,
   "metadata": {
    "collapsed": true
   },
   "outputs": [],
   "source": [
    "df['date'] = pd.to_datetime(df.date,format='%d.%m.%Y')"
   ]
  },
  {
   "cell_type": "code",
   "execution_count": 13,
   "metadata": {},
   "outputs": [
    {
     "data": {
      "text/plain": [
       "date              datetime64[ns]\n",
       "date_block_num             int64\n",
       "shop_id                    int64\n",
       "item_id                    int64\n",
       "item_price               float64\n",
       "item_cnt_day             float64\n",
       "dtype: object"
      ]
     },
     "execution_count": 13,
     "metadata": {},
     "output_type": "execute_result"
    }
   ],
   "source": [
    "df.dtypes"
   ]
  },
  {
   "cell_type": "code",
   "execution_count": 17,
   "metadata": {},
   "outputs": [
    {
     "data": {
      "text/plain": [
       "<matplotlib.axes._subplots.AxesSubplot at 0x7fe671f05908>"
      ]
     },
     "execution_count": 17,
     "metadata": {},
     "output_type": "execute_result"
    },
    {
     "data": {
      "image/png": "[encoded data removed]",
      "text/plain": [
       "<matplotlib.figure.Figure at 0x7fe67381bb70>"
      ]
     },
     "metadata": {},
     "output_type": "display_data"
    }
   ],
   "source": [
    "df.copy().set_index('date').item_cnt_day.resample('M').sum().plot(kind ='bar',figsize=(20,10))"
   ]
  },
  {
   "cell_type": "code",
   "execution_count": 18,
   "metadata": {
    "collapsed": true
   },
   "outputs": [],
   "source": [
    "plt.style.use('seaborn')"
   ]
  },
  {
   "cell_type": "code",
   "execution_count": 19,
   "metadata": {},
   "outputs": [
    {
     "data": {
      "text/plain": [
       "<matplotlib.axes._subplots.AxesSubplot at 0x7fe671f05e80>"
      ]
     },
     "execution_count": 19,
     "metadata": {},
     "output_type": "execute_result"
    },
    {
     "data": {
      "image/png": "[encoded data removed]",
      "text/plain": [
       "<matplotlib.figure.Figure at 0x7fe671738f98>"
      ]
     },
     "metadata": {},
     "output_type": "display_data"
    }
   ],
   "source": [
    "df.copy().set_index('date').item_cnt_day.resample('M').sum().plot(figsize=(20,10))"
   ]
  },
  {
   "cell_type": "code",
   "execution_count": 20,
   "metadata": {},
   "outputs": [
    {
     "data": {
      "text/plain": [
       "<matplotlib.axes._subplots.AxesSubplot at 0x7fe66ddf2080>"
      ]
     },
     "execution_count": 20,
     "metadata": {},
     "output_type": "execute_result"
    },
    {
     "data": {
      "image/png": "[encoded data removed]",
      "text/plain": [
       "<matplotlib.figure.Figure at 0x7fe66ddcd8d0>"
      ]
     },
     "metadata": {},
     "output_type": "display_data"
    }
   ],
   "source": [
    "df.copy().set_index('date').item_cnt_day.resample('M').mean().plot(figsize=(20,10))"
   ]
  },
  {
   "cell_type": "code",
   "execution_count": 21,
   "metadata": {},
   "outputs": [
    {
     "ename": "SyntaxError",
     "evalue": "unexpected EOF while parsing (<ipython-input-21-c1b7dd3f2621>, line 1)",
     "output_type": "error",
     "traceback": [
      "\u001b[0;36m  File \u001b[0;32m\"<ipython-input-21-c1b7dd3f2621>\"\u001b[0;36m, line \u001b[0;32m1\u001b[0m\n\u001b[0;31m    df.copy().set_index('date').loc[''.item_cnt_day.resample('12M').sum().plot(kind='bar',figsize=(20,10))\u001b[0m\n\u001b[0m                                                                                                          ^\u001b[0m\n\u001b[0;31mSyntaxError\u001b[0m\u001b[0;31m:\u001b[0m unexpected EOF while parsing\n"
     ]
    }
   ],
   "source": [
    "df.copy().set_index('date').loc[''.item_cnt_day.resample('12M').sum().plot(kind='bar',figsize=(20,10))"
   ]
  },
  {
   "cell_type": "code",
   "execution_count": null,
   "metadata": {
    "collapsed": true
   },
   "outputs": [],
   "source": []
  },
  {
   "cell_type": "code",
   "execution_count": 22,
   "metadata": {},
   "outputs": [
    {
     "data": {
      "text/plain": [
       "<matplotlib.axes._subplots.AxesSubplot at 0x7fe66dcd2320>"
      ]
     },
     "execution_count": 22,
     "metadata": {},
     "output_type": "execute_result"
    },
    {
     "data": {
      "image/png": "[encoded data removed]",
      "text/plain": [
       "<matplotlib.figure.Figure at 0x7fe671ed8e80>"
      ]
     },
     "metadata": {},
     "output_type": "display_data"
    }
   ],
   "source": [
    "df.loc[df['date'].map(lambda x: x.month)==6].copy().set_index('date').item_cnt_day.resample('D').sum().plot(figsize=(20,10))"
   ]
  },
  {
   "cell_type": "code",
   "execution_count": 14,
   "metadata": {
    "collapsed": true
   },
   "outputs": [],
   "source": [
    "df_copy = df.copy().groupby(['shop_id','item_id','date_block_num'],as_index=False).agg({'item_cnt_day':'sum'})"
   ]
  },
  {
   "cell_type": "code",
   "execution_count": 15,
   "metadata": {
    "collapsed": true
   },
   "outputs": [],
   "source": [
    "df_copy = df_copy.rename(index=str, columns={\"item_cnt_day\": \"target\"})"
   ]
  },
  {
   "cell_type": "code",
   "execution_count": 16,
   "metadata": {},
   "outputs": [
    {
     "name": "stderr",
     "output_type": "stream",
     "text": [
      "/home/prasoon/anaconda3/lib/python3.6/site-packages/pandas/core/groupby.py:3961: FutureWarning: using a dict with renaming is deprecated and will be removed in a future version\n",
      "  return super(DataFrameGroupBy, self).aggregate(arg, *args, **kwargs)\n"
     ]
    }
   ],
   "source": [
    "df_copy2 = df_copy.copy().groupby(['shop_id','date_block_num'],as_index =False).agg({'target':{'shop_block_sum':'sum','shop_block_mean':'mean'}})\n",
    "df_copy2.columns = [col[0] if col[-1]=='' else col[-1] for col in df_copy2.columns.values]"
   ]
  },
  {
   "cell_type": "code",
   "execution_count": null,
   "metadata": {
    "collapsed": true
   },
   "outputs": [],
   "source": []
  },
  {
   "cell_type": "code",
   "execution_count": 17,
   "metadata": {
    "collapsed": true
   },
   "outputs": [],
   "source": [
    "df_copy_x = pd.merge(df_copy,df_copy2,how = 'left',on = ['shop_id','date_block_num'])"
   ]
  },
  {
   "cell_type": "code",
   "execution_count": null,
   "metadata": {
    "collapsed": true
   },
   "outputs": [],
   "source": []
  },
  {
   "cell_type": "code",
   "execution_count": 18,
   "metadata": {},
   "outputs": [
    {
     "data": {
      "text/html": [
       "<div>\n",
       "<style>\n",
       "    .dataframe thead tr:only-child th {\n",
       "        text-align: right;\n",
       "    }\n",
       "\n",
       "    .dataframe thead th {\n",
       "        text-align: left;\n",
       "    }\n",
       "\n",
       "    .dataframe tbody tr th {\n",
       "        vertical-align: top;\n",
       "    }\n",
       "</style>\n",
       "<table border=\"1\" class=\"dataframe\">\n",
       "  <thead>\n",
       "    <tr style=\"text-align: right;\">\n",
       "      <th></th>\n",
       "      <th>shop_id</th>\n",
       "      <th>item_id</th>\n",
       "      <th>date_block_num</th>\n",
       "      <th>target</th>\n",
       "      <th>shop_block_sum</th>\n",
       "      <th>shop_block_mean</th>\n",
       "    </tr>\n",
       "  </thead>\n",
       "  <tbody>\n",
       "    <tr>\n",
       "      <th>0</th>\n",
       "      <td>0</td>\n",
       "      <td>30</td>\n",
       "      <td>1</td>\n",
       "      <td>31.0</td>\n",
       "      <td>6127.0</td>\n",
       "      <td>2.515189</td>\n",
       "    </tr>\n",
       "    <tr>\n",
       "      <th>1</th>\n",
       "      <td>0</td>\n",
       "      <td>31</td>\n",
       "      <td>1</td>\n",
       "      <td>11.0</td>\n",
       "      <td>6127.0</td>\n",
       "      <td>2.515189</td>\n",
       "    </tr>\n",
       "    <tr>\n",
       "      <th>2</th>\n",
       "      <td>0</td>\n",
       "      <td>32</td>\n",
       "      <td>0</td>\n",
       "      <td>6.0</td>\n",
       "      <td>5578.0</td>\n",
       "      <td>2.338784</td>\n",
       "    </tr>\n",
       "    <tr>\n",
       "      <th>3</th>\n",
       "      <td>0</td>\n",
       "      <td>32</td>\n",
       "      <td>1</td>\n",
       "      <td>10.0</td>\n",
       "      <td>6127.0</td>\n",
       "      <td>2.515189</td>\n",
       "    </tr>\n",
       "    <tr>\n",
       "      <th>4</th>\n",
       "      <td>0</td>\n",
       "      <td>33</td>\n",
       "      <td>0</td>\n",
       "      <td>3.0</td>\n",
       "      <td>5578.0</td>\n",
       "      <td>2.338784</td>\n",
       "    </tr>\n",
       "  </tbody>\n",
       "</table>\n",
       "</div>"
      ],
      "text/plain": [
       "   shop_id  item_id  date_block_num  target  shop_block_sum  shop_block_mean\n",
       "0        0       30               1    31.0          6127.0         2.515189\n",
       "1        0       31               1    11.0          6127.0         2.515189\n",
       "2        0       32               0     6.0          5578.0         2.338784\n",
       "3        0       32               1    10.0          6127.0         2.515189\n",
       "4        0       33               0     3.0          5578.0         2.338784"
      ]
     },
     "execution_count": 18,
     "metadata": {},
     "output_type": "execute_result"
    }
   ],
   "source": [
    "df_copy_x.head()"
   ]
  },
  {
   "cell_type": "code",
   "execution_count": 19,
   "metadata": {},
   "outputs": [
    {
     "name": "stderr",
     "output_type": "stream",
     "text": [
      "/home/prasoon/anaconda3/lib/python3.6/site-packages/pandas/core/groupby.py:3961: FutureWarning: using a dict with renaming is deprecated and will be removed in a future version\n",
      "  return super(DataFrameGroupBy, self).aggregate(arg, *args, **kwargs)\n"
     ]
    }
   ],
   "source": [
    "df_copy3 = df_copy.copy().groupby(['item_id','date_block_num'],as_index =False).agg({'target':{'item_block_sum':'sum','item_block_mean':'mean'}})\n",
    "df_copy3.columns = [col[0] if col[-1]=='' else col[-1] for col in df_copy3.columns.values]"
   ]
  },
  {
   "cell_type": "code",
   "execution_count": 20,
   "metadata": {},
   "outputs": [
    {
     "data": {
      "text/html": [
       "<div>\n",
       "<style>\n",
       "    .dataframe thead tr:only-child th {\n",
       "        text-align: right;\n",
       "    }\n",
       "\n",
       "    .dataframe thead th {\n",
       "        text-align: left;\n",
       "    }\n",
       "\n",
       "    .dataframe tbody tr th {\n",
       "        vertical-align: top;\n",
       "    }\n",
       "</style>\n",
       "<table border=\"1\" class=\"dataframe\">\n",
       "  <thead>\n",
       "    <tr style=\"text-align: right;\">\n",
       "      <th></th>\n",
       "      <th>item_id</th>\n",
       "      <th>date_block_num</th>\n",
       "      <th>item_block_sum</th>\n",
       "      <th>item_block_mean</th>\n",
       "    </tr>\n",
       "  </thead>\n",
       "  <tbody>\n",
       "    <tr>\n",
       "      <th>0</th>\n",
       "      <td>0</td>\n",
       "      <td>20</td>\n",
       "      <td>1.0</td>\n",
       "      <td>1.0</td>\n",
       "    </tr>\n",
       "    <tr>\n",
       "      <th>1</th>\n",
       "      <td>1</td>\n",
       "      <td>15</td>\n",
       "      <td>2.0</td>\n",
       "      <td>2.0</td>\n",
       "    </tr>\n",
       "    <tr>\n",
       "      <th>2</th>\n",
       "      <td>1</td>\n",
       "      <td>18</td>\n",
       "      <td>1.0</td>\n",
       "      <td>1.0</td>\n",
       "    </tr>\n",
       "    <tr>\n",
       "      <th>3</th>\n",
       "      <td>1</td>\n",
       "      <td>19</td>\n",
       "      <td>1.0</td>\n",
       "      <td>1.0</td>\n",
       "    </tr>\n",
       "    <tr>\n",
       "      <th>4</th>\n",
       "      <td>1</td>\n",
       "      <td>20</td>\n",
       "      <td>1.0</td>\n",
       "      <td>1.0</td>\n",
       "    </tr>\n",
       "  </tbody>\n",
       "</table>\n",
       "</div>"
      ],
      "text/plain": [
       "   item_id  date_block_num  item_block_sum  item_block_mean\n",
       "0        0              20             1.0              1.0\n",
       "1        1              15             2.0              2.0\n",
       "2        1              18             1.0              1.0\n",
       "3        1              19             1.0              1.0\n",
       "4        1              20             1.0              1.0"
      ]
     },
     "execution_count": 20,
     "metadata": {},
     "output_type": "execute_result"
    }
   ],
   "source": [
    "df_copy3.head()"
   ]
  },
  {
   "cell_type": "code",
   "execution_count": 21,
   "metadata": {
    "collapsed": true
   },
   "outputs": [],
   "source": [
    "df_copy_x = pd.merge(df_copy_x,df_copy3,how = 'left',on = ['item_id','date_block_num'])"
   ]
  },
  {
   "cell_type": "code",
   "execution_count": 22,
   "metadata": {},
   "outputs": [
    {
     "data": {
      "text/html": [
       "<div>\n",
       "<style>\n",
       "    .dataframe thead tr:only-child th {\n",
       "        text-align: right;\n",
       "    }\n",
       "\n",
       "    .dataframe thead th {\n",
       "        text-align: left;\n",
       "    }\n",
       "\n",
       "    .dataframe tbody tr th {\n",
       "        vertical-align: top;\n",
       "    }\n",
       "</style>\n",
       "<table border=\"1\" class=\"dataframe\">\n",
       "  <thead>\n",
       "    <tr style=\"text-align: right;\">\n",
       "      <th></th>\n",
       "      <th>shop_id</th>\n",
       "      <th>item_id</th>\n",
       "      <th>date_block_num</th>\n",
       "      <th>target</th>\n",
       "      <th>shop_block_sum</th>\n",
       "      <th>shop_block_mean</th>\n",
       "      <th>item_block_sum</th>\n",
       "      <th>item_block_mean</th>\n",
       "    </tr>\n",
       "  </thead>\n",
       "  <tbody>\n",
       "    <tr>\n",
       "      <th>0</th>\n",
       "      <td>0</td>\n",
       "      <td>30</td>\n",
       "      <td>1</td>\n",
       "      <td>31.0</td>\n",
       "      <td>6127.0</td>\n",
       "      <td>2.515189</td>\n",
       "      <td>861.0</td>\n",
       "      <td>19.133333</td>\n",
       "    </tr>\n",
       "    <tr>\n",
       "      <th>1</th>\n",
       "      <td>0</td>\n",
       "      <td>31</td>\n",
       "      <td>1</td>\n",
       "      <td>11.0</td>\n",
       "      <td>6127.0</td>\n",
       "      <td>2.515189</td>\n",
       "      <td>628.0</td>\n",
       "      <td>13.652174</td>\n",
       "    </tr>\n",
       "    <tr>\n",
       "      <th>2</th>\n",
       "      <td>0</td>\n",
       "      <td>32</td>\n",
       "      <td>0</td>\n",
       "      <td>6.0</td>\n",
       "      <td>5578.0</td>\n",
       "      <td>2.338784</td>\n",
       "      <td>299.0</td>\n",
       "      <td>8.081081</td>\n",
       "    </tr>\n",
       "    <tr>\n",
       "      <th>3</th>\n",
       "      <td>0</td>\n",
       "      <td>32</td>\n",
       "      <td>1</td>\n",
       "      <td>10.0</td>\n",
       "      <td>6127.0</td>\n",
       "      <td>2.515189</td>\n",
       "      <td>208.0</td>\n",
       "      <td>5.621622</td>\n",
       "    </tr>\n",
       "    <tr>\n",
       "      <th>4</th>\n",
       "      <td>0</td>\n",
       "      <td>33</td>\n",
       "      <td>0</td>\n",
       "      <td>3.0</td>\n",
       "      <td>5578.0</td>\n",
       "      <td>2.338784</td>\n",
       "      <td>61.0</td>\n",
       "      <td>2.033333</td>\n",
       "    </tr>\n",
       "  </tbody>\n",
       "</table>\n",
       "</div>"
      ],
      "text/plain": [
       "   shop_id  item_id  date_block_num  target  shop_block_sum  shop_block_mean  \\\n",
       "0        0       30               1    31.0          6127.0         2.515189   \n",
       "1        0       31               1    11.0          6127.0         2.515189   \n",
       "2        0       32               0     6.0          5578.0         2.338784   \n",
       "3        0       32               1    10.0          6127.0         2.515189   \n",
       "4        0       33               0     3.0          5578.0         2.338784   \n",
       "\n",
       "   item_block_sum  item_block_mean  \n",
       "0           861.0        19.133333  \n",
       "1           628.0        13.652174  \n",
       "2           299.0         8.081081  \n",
       "3           208.0         5.621622  \n",
       "4            61.0         2.033333  "
      ]
     },
     "execution_count": 22,
     "metadata": {},
     "output_type": "execute_result"
    }
   ],
   "source": [
    "df_copy_x.head()"
   ]
  },
  {
   "cell_type": "code",
   "execution_count": 23,
   "metadata": {
    "collapsed": true
   },
   "outputs": [],
   "source": [
    "df_copy_x = df_copy_x.sort_values('date_block_num')"
   ]
  },
  {
   "cell_type": "code",
   "execution_count": 24,
   "metadata": {},
   "outputs": [
    {
     "data": {
      "text/html": [
       "<div>\n",
       "<style>\n",
       "    .dataframe thead tr:only-child th {\n",
       "        text-align: right;\n",
       "    }\n",
       "\n",
       "    .dataframe thead th {\n",
       "        text-align: left;\n",
       "    }\n",
       "\n",
       "    .dataframe tbody tr th {\n",
       "        vertical-align: top;\n",
       "    }\n",
       "</style>\n",
       "<table border=\"1\" class=\"dataframe\">\n",
       "  <thead>\n",
       "    <tr style=\"text-align: right;\">\n",
       "      <th></th>\n",
       "      <th>shop_id</th>\n",
       "      <th>item_id</th>\n",
       "      <th>date_block_num</th>\n",
       "      <th>target</th>\n",
       "      <th>shop_block_sum</th>\n",
       "      <th>shop_block_mean</th>\n",
       "      <th>item_block_sum</th>\n",
       "      <th>item_block_mean</th>\n",
       "    </tr>\n",
       "  </thead>\n",
       "  <tbody>\n",
       "    <tr>\n",
       "      <th>560419</th>\n",
       "      <td>25</td>\n",
       "      <td>18821</td>\n",
       "      <td>0</td>\n",
       "      <td>2.0</td>\n",
       "      <td>8215.0</td>\n",
       "      <td>2.618744</td>\n",
       "      <td>9.0</td>\n",
       "      <td>1.285714</td>\n",
       "    </tr>\n",
       "    <tr>\n",
       "      <th>508826</th>\n",
       "      <td>25</td>\n",
       "      <td>6235</td>\n",
       "      <td>0</td>\n",
       "      <td>1.0</td>\n",
       "      <td>8215.0</td>\n",
       "      <td>2.618744</td>\n",
       "      <td>1.0</td>\n",
       "      <td>1.000000</td>\n",
       "    </tr>\n",
       "    <tr>\n",
       "      <th>63942</th>\n",
       "      <td>4</td>\n",
       "      <td>21876</td>\n",
       "      <td>0</td>\n",
       "      <td>1.0</td>\n",
       "      <td>2114.0</td>\n",
       "      <td>1.990584</td>\n",
       "      <td>30.0</td>\n",
       "      <td>1.500000</td>\n",
       "    </tr>\n",
       "    <tr>\n",
       "      <th>1271613</th>\n",
       "      <td>51</td>\n",
       "      <td>991</td>\n",
       "      <td>0</td>\n",
       "      <td>1.0</td>\n",
       "      <td>2748.0</td>\n",
       "      <td>1.792564</td>\n",
       "      <td>31.0</td>\n",
       "      <td>1.631579</td>\n",
       "    </tr>\n",
       "    <tr>\n",
       "      <th>508864</th>\n",
       "      <td>25</td>\n",
       "      <td>6241</td>\n",
       "      <td>0</td>\n",
       "      <td>-1.0</td>\n",
       "      <td>8215.0</td>\n",
       "      <td>2.618744</td>\n",
       "      <td>-1.0</td>\n",
       "      <td>-1.000000</td>\n",
       "    </tr>\n",
       "  </tbody>\n",
       "</table>\n",
       "</div>"
      ],
      "text/plain": [
       "         shop_id  item_id  date_block_num  target  shop_block_sum  \\\n",
       "560419        25    18821               0     2.0          8215.0   \n",
       "508826        25     6235               0     1.0          8215.0   \n",
       "63942          4    21876               0     1.0          2114.0   \n",
       "1271613       51      991               0     1.0          2748.0   \n",
       "508864        25     6241               0    -1.0          8215.0   \n",
       "\n",
       "         shop_block_mean  item_block_sum  item_block_mean  \n",
       "560419          2.618744             9.0         1.285714  \n",
       "508826          2.618744             1.0         1.000000  \n",
       "63942           1.990584            30.0         1.500000  \n",
       "1271613         1.792564            31.0         1.631579  \n",
       "508864          2.618744            -1.0        -1.000000  "
      ]
     },
     "execution_count": 24,
     "metadata": {},
     "output_type": "execute_result"
    }
   ],
   "source": [
    "df_copy_x.head()"
   ]
  },
  {
   "cell_type": "code",
   "execution_count": 25,
   "metadata": {},
   "outputs": [
    {
     "data": {
      "text/html": [
       "<div>\n",
       "<style>\n",
       "    .dataframe thead tr:only-child th {\n",
       "        text-align: right;\n",
       "    }\n",
       "\n",
       "    .dataframe thead th {\n",
       "        text-align: left;\n",
       "    }\n",
       "\n",
       "    .dataframe tbody tr th {\n",
       "        vertical-align: top;\n",
       "    }\n",
       "</style>\n",
       "<table border=\"1\" class=\"dataframe\">\n",
       "  <thead>\n",
       "    <tr style=\"text-align: right;\">\n",
       "      <th></th>\n",
       "      <th>shop_id</th>\n",
       "      <th>item_id</th>\n",
       "      <th>date_block_num</th>\n",
       "      <th>target</th>\n",
       "      <th>shop_block_sum</th>\n",
       "      <th>shop_block_mean</th>\n",
       "      <th>item_block_sum</th>\n",
       "      <th>item_block_mean</th>\n",
       "    </tr>\n",
       "  </thead>\n",
       "  <tbody>\n",
       "    <tr>\n",
       "      <th>560419</th>\n",
       "      <td>25</td>\n",
       "      <td>18821</td>\n",
       "      <td>0</td>\n",
       "      <td>2.0</td>\n",
       "      <td>8215.0</td>\n",
       "      <td>2.618744</td>\n",
       "      <td>9.0</td>\n",
       "      <td>1.285714</td>\n",
       "    </tr>\n",
       "    <tr>\n",
       "      <th>508826</th>\n",
       "      <td>25</td>\n",
       "      <td>6235</td>\n",
       "      <td>0</td>\n",
       "      <td>1.0</td>\n",
       "      <td>8215.0</td>\n",
       "      <td>2.618744</td>\n",
       "      <td>1.0</td>\n",
       "      <td>1.000000</td>\n",
       "    </tr>\n",
       "    <tr>\n",
       "      <th>63942</th>\n",
       "      <td>4</td>\n",
       "      <td>21876</td>\n",
       "      <td>0</td>\n",
       "      <td>1.0</td>\n",
       "      <td>2114.0</td>\n",
       "      <td>1.990584</td>\n",
       "      <td>30.0</td>\n",
       "      <td>1.500000</td>\n",
       "    </tr>\n",
       "    <tr>\n",
       "      <th>1271613</th>\n",
       "      <td>51</td>\n",
       "      <td>991</td>\n",
       "      <td>0</td>\n",
       "      <td>1.0</td>\n",
       "      <td>2748.0</td>\n",
       "      <td>1.792564</td>\n",
       "      <td>31.0</td>\n",
       "      <td>1.631579</td>\n",
       "    </tr>\n",
       "    <tr>\n",
       "      <th>508864</th>\n",
       "      <td>25</td>\n",
       "      <td>6241</td>\n",
       "      <td>0</td>\n",
       "      <td>-1.0</td>\n",
       "      <td>8215.0</td>\n",
       "      <td>2.618744</td>\n",
       "      <td>-1.0</td>\n",
       "      <td>-1.000000</td>\n",
       "    </tr>\n",
       "  </tbody>\n",
       "</table>\n",
       "</div>"
      ],
      "text/plain": [
       "         shop_id  item_id  date_block_num  target  shop_block_sum  \\\n",
       "560419        25    18821               0     2.0          8215.0   \n",
       "508826        25     6235               0     1.0          8215.0   \n",
       "63942          4    21876               0     1.0          2114.0   \n",
       "1271613       51      991               0     1.0          2748.0   \n",
       "508864        25     6241               0    -1.0          8215.0   \n",
       "\n",
       "         shop_block_mean  item_block_sum  item_block_mean  \n",
       "560419          2.618744             9.0         1.285714  \n",
       "508826          2.618744             1.0         1.000000  \n",
       "63942           1.990584            30.0         1.500000  \n",
       "1271613         1.792564            31.0         1.631579  \n",
       "508864          2.618744            -1.0        -1.000000  "
      ]
     },
     "execution_count": 25,
     "metadata": {},
     "output_type": "execute_result"
    }
   ],
   "source": [
    "df_copy_x.head()"
   ]
  },
  {
   "cell_type": "code",
   "execution_count": 74,
   "metadata": {
    "collapsed": true
   },
   "outputs": [],
   "source": [
    "l = []\n",
    "for a in df_copy_x['date_block_num'].unique():\n",
    "    l.append(df_copy_x.loc[df_copy_x['date_block_num']==a,'date_block_num'].count())"
   ]
  },
  {
   "cell_type": "code",
   "execution_count": 76,
   "metadata": {},
   "outputs": [
    {
     "data": {
      "text/plain": [
       "[63224,\n",
       " 59935,\n",
       " 63977,\n",
       " 54638,\n",
       " 53296,\n",
       " 56196,\n",
       " 58035,\n",
       " 58022,\n",
       " 51575,\n",
       " 51090,\n",
       " 51460,\n",
       " 66276,\n",
       " 53320,\n",
       " 47704,\n",
       " 49291,\n",
       " 44740,\n",
       " 45766,\n",
       " 46481,\n",
       " 45756,\n",
       " 46439,\n",
       " 40423,\n",
       " 42595,\n",
       " 45755,\n",
       " 59275,\n",
       " 46775,\n",
       " 41390,\n",
       " 40464,\n",
       " 32875,\n",
       " 32220,\n",
       " 31909,\n",
       " 33527,\n",
       " 33486,\n",
       " 29678,\n",
       " 31531]"
      ]
     },
     "execution_count": 76,
     "metadata": {},
     "output_type": "execute_result"
    }
   ],
   "source": [
    "l"
   ]
  },
  {
   "cell_type": "code",
   "execution_count": 359,
   "metadata": {},
   "outputs": [
    {
     "data": {
      "text/plain": [
       "34"
      ]
     },
     "execution_count": 359,
     "metadata": {},
     "output_type": "execute_result"
    }
   ],
   "source": [
    "for group,frame in df_copy_x.copy().gropby('date_block_num'):\n",
    "    "
   ]
  },
  {
   "cell_type": "code",
   "execution_count": 384,
   "metadata": {
    "collapsed": true
   },
   "outputs": [],
   "source": [
    "df_copy_x=df_copy_x.drop(['level_0','index'],axis=1)"
   ]
  },
  {
   "cell_type": "code",
   "execution_count": null,
   "metadata": {
    "collapsed": true
   },
   "outputs": [],
   "source": []
  },
  {
   "cell_type": "code",
   "execution_count": 26,
   "metadata": {
    "collapsed": true
   },
   "outputs": [],
   "source": [
    "for block in df_copy_x['date_block_num'].unique():\n",
    "    l = len(df_copy_x.loc[df_copy_x['date_block_num']==block,'date_block_num'])\n",
    "    df_copy_x = df_copy_x.reset_index(drop=True)\n",
    "    df_copy_x=df_copy_x.drop(df_copy_x.index[29678*(block+1):(29678*block)+l])\n",
    "    "
   ]
  },
  {
   "cell_type": "code",
   "execution_count": 30,
   "metadata": {},
   "outputs": [
    {
     "data": {
      "text/plain": [
       "shop_id            29678\n",
       "item_id            29678\n",
       "date_block_num     29678\n",
       "target             29678\n",
       "shop_block_sum     29678\n",
       "shop_block_mean    29678\n",
       "item_block_sum     29678\n",
       "item_block_mean    29678\n",
       "dtype: int64"
      ]
     },
     "execution_count": 30,
     "metadata": {},
     "output_type": "execute_result"
    }
   ],
   "source": [
    "df_copy_x.loc[df_copy_x['date_block_num']==33].count()"
   ]
  },
  {
   "cell_type": "code",
   "execution_count": null,
   "metadata": {
    "collapsed": true
   },
   "outputs": [],
   "source": []
  },
  {
   "cell_type": "code",
   "execution_count": null,
   "metadata": {
    "collapsed": true
   },
   "outputs": [],
   "source": []
  },
  {
   "cell_type": "code",
   "execution_count": null,
   "metadata": {
    "collapsed": true
   },
   "outputs": [],
   "source": []
  },
  {
   "cell_type": "code",
   "execution_count": 32,
   "metadata": {},
   "outputs": [
    {
     "data": {
      "text/html": [
       "<div>\n",
       "<style>\n",
       "    .dataframe thead tr:only-child th {\n",
       "        text-align: right;\n",
       "    }\n",
       "\n",
       "    .dataframe thead th {\n",
       "        text-align: left;\n",
       "    }\n",
       "\n",
       "    .dataframe tbody tr th {\n",
       "        vertical-align: top;\n",
       "    }\n",
       "</style>\n",
       "<table border=\"1\" class=\"dataframe\">\n",
       "  <thead>\n",
       "    <tr style=\"text-align: right;\">\n",
       "      <th></th>\n",
       "      <th>shop_id</th>\n",
       "      <th>item_id</th>\n",
       "      <th>date_block_num</th>\n",
       "      <th>target</th>\n",
       "      <th>shop_block_sum</th>\n",
       "      <th>shop_block_mean</th>\n",
       "      <th>item_block_sum</th>\n",
       "      <th>item_block_mean</th>\n",
       "    </tr>\n",
       "  </thead>\n",
       "  <tbody>\n",
       "    <tr>\n",
       "      <th>0</th>\n",
       "      <td>25</td>\n",
       "      <td>18821</td>\n",
       "      <td>0</td>\n",
       "      <td>2.0</td>\n",
       "      <td>8215.0</td>\n",
       "      <td>2.618744</td>\n",
       "      <td>9.0</td>\n",
       "      <td>1.285714</td>\n",
       "    </tr>\n",
       "    <tr>\n",
       "      <th>1</th>\n",
       "      <td>25</td>\n",
       "      <td>6235</td>\n",
       "      <td>0</td>\n",
       "      <td>1.0</td>\n",
       "      <td>8215.0</td>\n",
       "      <td>2.618744</td>\n",
       "      <td>1.0</td>\n",
       "      <td>1.000000</td>\n",
       "    </tr>\n",
       "    <tr>\n",
       "      <th>2</th>\n",
       "      <td>4</td>\n",
       "      <td>21876</td>\n",
       "      <td>0</td>\n",
       "      <td>1.0</td>\n",
       "      <td>2114.0</td>\n",
       "      <td>1.990584</td>\n",
       "      <td>30.0</td>\n",
       "      <td>1.500000</td>\n",
       "    </tr>\n",
       "    <tr>\n",
       "      <th>3</th>\n",
       "      <td>51</td>\n",
       "      <td>991</td>\n",
       "      <td>0</td>\n",
       "      <td>1.0</td>\n",
       "      <td>2748.0</td>\n",
       "      <td>1.792564</td>\n",
       "      <td>31.0</td>\n",
       "      <td>1.631579</td>\n",
       "    </tr>\n",
       "    <tr>\n",
       "      <th>4</th>\n",
       "      <td>25</td>\n",
       "      <td>6241</td>\n",
       "      <td>0</td>\n",
       "      <td>-1.0</td>\n",
       "      <td>8215.0</td>\n",
       "      <td>2.618744</td>\n",
       "      <td>-1.0</td>\n",
       "      <td>-1.000000</td>\n",
       "    </tr>\n",
       "  </tbody>\n",
       "</table>\n",
       "</div>"
      ],
      "text/plain": [
       "   shop_id  item_id  date_block_num  target  shop_block_sum  shop_block_mean  \\\n",
       "0       25    18821               0     2.0          8215.0         2.618744   \n",
       "1       25     6235               0     1.0          8215.0         2.618744   \n",
       "2        4    21876               0     1.0          2114.0         1.990584   \n",
       "3       51      991               0     1.0          2748.0         1.792564   \n",
       "4       25     6241               0    -1.0          8215.0         2.618744   \n",
       "\n",
       "   item_block_sum  item_block_mean  \n",
       "0             9.0         1.285714  \n",
       "1             1.0         1.000000  \n",
       "2            30.0         1.500000  \n",
       "3            31.0         1.631579  \n",
       "4            -1.0        -1.000000  "
      ]
     },
     "execution_count": 32,
     "metadata": {},
     "output_type": "execute_result"
    }
   ],
   "source": [
    "df_copy_x.head()"
   ]
  },
  {
   "cell_type": "code",
   "execution_count": 39,
   "metadata": {
    "collapsed": true
   },
   "outputs": [],
   "source": [
    "m = 29678\n",
    "df_copy_x['shop_sum_lag_1'] = df_copy_x['shop_block_sum'].shift(1*m)\n",
    "df_copy_x['shop_sum_lag_3'] = df_copy_x['shop_block_sum'].shift(3*m)\n",
    "df_copy_x['shop_sum_lag_6'] = df_copy_x['shop_block_sum'].shift(6*m)\n",
    "df_copy_x['item_sum_lag_1'] = df_copy_x['item_block_sum'].shift(1*m)\n",
    "df_copy_x['item_sum_lag_3'] = df_copy_x['item_block_sum'].shift(3*m)\n",
    "df_copy_x['item_sum_lag_6'] = df_copy_x['item_block_sum'].shift(6*m)\n",
    "df_copy_x['shop_mean_lag_1'] = df_copy_x['shop_block_mean'].shift(1*m)\n",
    "df_copy_x['shop_mean_lag_3'] = df_copy_x['shop_block_mean'].shift(3*m)\n",
    "df_copy_x['shop_mean_lag_6'] = df_copy_x['shop_block_mean'].shift(6*m)\n",
    "df_copy_x['item_mean_lag_1'] = df_copy_x['item_block_mean'].shift(1*m)\n",
    "df_copy_x['item_mean_lag_3'] = df_copy_x['item_block_mean'].shift(3*m)\n",
    "df_copy_x['item_mean_lag_6'] = df_copy_x['item_block_mean'].shift(6*m)\n",
    "df_copy_x['target_lag_1'] = df_copy_x['target'].shift(1*m)\n",
    "df_copy_x['target_lag_3'] = df_copy_x['target'].shift(3*m)\n",
    "df_copy_x['target_lag_6'] = df_copy_x['target'].shift(6*m)\n",
    "\n",
    "\n",
    "\n",
    "\n",
    "\n",
    "\n",
    "\n"
   ]
  },
  {
   "cell_type": "code",
   "execution_count": 45,
   "metadata": {},
   "outputs": [
    {
     "data": {
      "text/html": [
       "<div>\n",
       "<style>\n",
       "    .dataframe thead tr:only-child th {\n",
       "        text-align: right;\n",
       "    }\n",
       "\n",
       "    .dataframe thead th {\n",
       "        text-align: left;\n",
       "    }\n",
       "\n",
       "    .dataframe tbody tr th {\n",
       "        vertical-align: top;\n",
       "    }\n",
       "</style>\n",
       "<table border=\"1\" class=\"dataframe\">\n",
       "  <thead>\n",
       "    <tr style=\"text-align: right;\">\n",
       "      <th></th>\n",
       "      <th>shop_id</th>\n",
       "      <th>item_id</th>\n",
       "      <th>date_block_num</th>\n",
       "      <th>target</th>\n",
       "      <th>shop_block_sum</th>\n",
       "      <th>shop_block_mean</th>\n",
       "      <th>item_block_sum</th>\n",
       "      <th>item_block_mean</th>\n",
       "      <th>shop_sum_lag_1</th>\n",
       "      <th>shop_sum_lag_3</th>\n",
       "      <th>...</th>\n",
       "      <th>item_sum_lag_6</th>\n",
       "      <th>shop_mean_lag_1</th>\n",
       "      <th>shop_mean_lag_3</th>\n",
       "      <th>shop_mean_lag_6</th>\n",
       "      <th>item_mean_lag_1</th>\n",
       "      <th>item_mean_lag_3</th>\n",
       "      <th>item_mean_lag_6</th>\n",
       "      <th>target_lag_1</th>\n",
       "      <th>target_lag_3</th>\n",
       "      <th>target_lag_6</th>\n",
       "    </tr>\n",
       "  </thead>\n",
       "  <tbody>\n",
       "    <tr>\n",
       "      <th>0</th>\n",
       "      <td>25</td>\n",
       "      <td>18821</td>\n",
       "      <td>0</td>\n",
       "      <td>2.0</td>\n",
       "      <td>8215.0</td>\n",
       "      <td>2.618744</td>\n",
       "      <td>9.0</td>\n",
       "      <td>1.285714</td>\n",
       "      <td>NaN</td>\n",
       "      <td>NaN</td>\n",
       "      <td>...</td>\n",
       "      <td>NaN</td>\n",
       "      <td>NaN</td>\n",
       "      <td>NaN</td>\n",
       "      <td>NaN</td>\n",
       "      <td>NaN</td>\n",
       "      <td>NaN</td>\n",
       "      <td>NaN</td>\n",
       "      <td>NaN</td>\n",
       "      <td>NaN</td>\n",
       "      <td>NaN</td>\n",
       "    </tr>\n",
       "    <tr>\n",
       "      <th>1</th>\n",
       "      <td>25</td>\n",
       "      <td>6235</td>\n",
       "      <td>0</td>\n",
       "      <td>1.0</td>\n",
       "      <td>8215.0</td>\n",
       "      <td>2.618744</td>\n",
       "      <td>1.0</td>\n",
       "      <td>1.000000</td>\n",
       "      <td>NaN</td>\n",
       "      <td>NaN</td>\n",
       "      <td>...</td>\n",
       "      <td>NaN</td>\n",
       "      <td>NaN</td>\n",
       "      <td>NaN</td>\n",
       "      <td>NaN</td>\n",
       "      <td>NaN</td>\n",
       "      <td>NaN</td>\n",
       "      <td>NaN</td>\n",
       "      <td>NaN</td>\n",
       "      <td>NaN</td>\n",
       "      <td>NaN</td>\n",
       "    </tr>\n",
       "    <tr>\n",
       "      <th>2</th>\n",
       "      <td>4</td>\n",
       "      <td>21876</td>\n",
       "      <td>0</td>\n",
       "      <td>1.0</td>\n",
       "      <td>2114.0</td>\n",
       "      <td>1.990584</td>\n",
       "      <td>30.0</td>\n",
       "      <td>1.500000</td>\n",
       "      <td>NaN</td>\n",
       "      <td>NaN</td>\n",
       "      <td>...</td>\n",
       "      <td>NaN</td>\n",
       "      <td>NaN</td>\n",
       "      <td>NaN</td>\n",
       "      <td>NaN</td>\n",
       "      <td>NaN</td>\n",
       "      <td>NaN</td>\n",
       "      <td>NaN</td>\n",
       "      <td>NaN</td>\n",
       "      <td>NaN</td>\n",
       "      <td>NaN</td>\n",
       "    </tr>\n",
       "    <tr>\n",
       "      <th>3</th>\n",
       "      <td>51</td>\n",
       "      <td>991</td>\n",
       "      <td>0</td>\n",
       "      <td>1.0</td>\n",
       "      <td>2748.0</td>\n",
       "      <td>1.792564</td>\n",
       "      <td>31.0</td>\n",
       "      <td>1.631579</td>\n",
       "      <td>NaN</td>\n",
       "      <td>NaN</td>\n",
       "      <td>...</td>\n",
       "      <td>NaN</td>\n",
       "      <td>NaN</td>\n",
       "      <td>NaN</td>\n",
       "      <td>NaN</td>\n",
       "      <td>NaN</td>\n",
       "      <td>NaN</td>\n",
       "      <td>NaN</td>\n",
       "      <td>NaN</td>\n",
       "      <td>NaN</td>\n",
       "      <td>NaN</td>\n",
       "    </tr>\n",
       "    <tr>\n",
       "      <th>4</th>\n",
       "      <td>25</td>\n",
       "      <td>6241</td>\n",
       "      <td>0</td>\n",
       "      <td>-1.0</td>\n",
       "      <td>8215.0</td>\n",
       "      <td>2.618744</td>\n",
       "      <td>-1.0</td>\n",
       "      <td>-1.000000</td>\n",
       "      <td>NaN</td>\n",
       "      <td>NaN</td>\n",
       "      <td>...</td>\n",
       "      <td>NaN</td>\n",
       "      <td>NaN</td>\n",
       "      <td>NaN</td>\n",
       "      <td>NaN</td>\n",
       "      <td>NaN</td>\n",
       "      <td>NaN</td>\n",
       "      <td>NaN</td>\n",
       "      <td>NaN</td>\n",
       "      <td>NaN</td>\n",
       "      <td>NaN</td>\n",
       "    </tr>\n",
       "  </tbody>\n",
       "</table>\n",
       "<p>5 rows × 23 columns</p>\n",
       "</div>"
      ],
      "text/plain": [
       "   shop_id  item_id  date_block_num  target  shop_block_sum  shop_block_mean  \\\n",
       "0       25    18821               0     2.0          8215.0         2.618744   \n",
       "1       25     6235               0     1.0          8215.0         2.618744   \n",
       "2        4    21876               0     1.0          2114.0         1.990584   \n",
       "3       51      991               0     1.0          2748.0         1.792564   \n",
       "4       25     6241               0    -1.0          8215.0         2.618744   \n",
       "\n",
       "   item_block_sum  item_block_mean  shop_sum_lag_1  shop_sum_lag_3  \\\n",
       "0             9.0         1.285714             NaN             NaN   \n",
       "1             1.0         1.000000             NaN             NaN   \n",
       "2            30.0         1.500000             NaN             NaN   \n",
       "3            31.0         1.631579             NaN             NaN   \n",
       "4            -1.0        -1.000000             NaN             NaN   \n",
       "\n",
       "       ...       item_sum_lag_6  shop_mean_lag_1  shop_mean_lag_3  \\\n",
       "0      ...                  NaN              NaN              NaN   \n",
       "1      ...                  NaN              NaN              NaN   \n",
       "2      ...                  NaN              NaN              NaN   \n",
       "3      ...                  NaN              NaN              NaN   \n",
       "4      ...                  NaN              NaN              NaN   \n",
       "\n",
       "   shop_mean_lag_6  item_mean_lag_1  item_mean_lag_3  item_mean_lag_6  \\\n",
       "0              NaN              NaN              NaN              NaN   \n",
       "1              NaN              NaN              NaN              NaN   \n",
       "2              NaN              NaN              NaN              NaN   \n",
       "3              NaN              NaN              NaN              NaN   \n",
       "4              NaN              NaN              NaN              NaN   \n",
       "\n",
       "   target_lag_1  target_lag_3  target_lag_6  \n",
       "0           NaN           NaN           NaN  \n",
       "1           NaN           NaN           NaN  \n",
       "2           NaN           NaN           NaN  \n",
       "3           NaN           NaN           NaN  \n",
       "4           NaN           NaN           NaN  \n",
       "\n",
       "[5 rows x 23 columns]"
      ]
     },
     "execution_count": 45,
     "metadata": {},
     "output_type": "execute_result"
    }
   ],
   "source": [
    "df_copy_x.head()"
   ]
  },
  {
   "cell_type": "code",
   "execution_count": 41,
   "metadata": {
    "collapsed": true
   },
   "outputs": [],
   "source": [
    "df_123 = df_copy_x.copy().dropna()"
   ]
  },
  {
   "cell_type": "code",
   "execution_count": 44,
   "metadata": {},
   "outputs": [
    {
     "data": {
      "text/html": [
       "<div>\n",
       "<style>\n",
       "    .dataframe thead tr:only-child th {\n",
       "        text-align: right;\n",
       "    }\n",
       "\n",
       "    .dataframe thead th {\n",
       "        text-align: left;\n",
       "    }\n",
       "\n",
       "    .dataframe tbody tr th {\n",
       "        vertical-align: top;\n",
       "    }\n",
       "</style>\n",
       "<table border=\"1\" class=\"dataframe\">\n",
       "  <thead>\n",
       "    <tr style=\"text-align: right;\">\n",
       "      <th></th>\n",
       "      <th>shop_id</th>\n",
       "      <th>item_id</th>\n",
       "      <th>date_block_num</th>\n",
       "      <th>target</th>\n",
       "      <th>shop_block_sum</th>\n",
       "      <th>shop_block_mean</th>\n",
       "      <th>item_block_sum</th>\n",
       "      <th>item_block_mean</th>\n",
       "      <th>shop_sum_lag_1</th>\n",
       "      <th>shop_sum_lag_3</th>\n",
       "      <th>...</th>\n",
       "      <th>item_sum_lag_6</th>\n",
       "      <th>shop_mean_lag_1</th>\n",
       "      <th>shop_mean_lag_3</th>\n",
       "      <th>shop_mean_lag_6</th>\n",
       "      <th>item_mean_lag_1</th>\n",
       "      <th>item_mean_lag_3</th>\n",
       "      <th>item_mean_lag_6</th>\n",
       "      <th>target_lag_1</th>\n",
       "      <th>target_lag_3</th>\n",
       "      <th>target_lag_6</th>\n",
       "    </tr>\n",
       "  </thead>\n",
       "  <tbody>\n",
       "    <tr>\n",
       "      <th>178068</th>\n",
       "      <td>4</td>\n",
       "      <td>13102</td>\n",
       "      <td>6</td>\n",
       "      <td>2.0</td>\n",
       "      <td>1378.0</td>\n",
       "      <td>1.654262</td>\n",
       "      <td>33.0</td>\n",
       "      <td>1.375000</td>\n",
       "      <td>3847.0</td>\n",
       "      <td>1375.0</td>\n",
       "      <td>...</td>\n",
       "      <td>9.0</td>\n",
       "      <td>2.216014</td>\n",
       "      <td>1.781088</td>\n",
       "      <td>2.618744</td>\n",
       "      <td>1.200000</td>\n",
       "      <td>1.192308</td>\n",
       "      <td>1.285714</td>\n",
       "      <td>1.0</td>\n",
       "      <td>1.0</td>\n",
       "      <td>2.0</td>\n",
       "    </tr>\n",
       "    <tr>\n",
       "      <th>178069</th>\n",
       "      <td>21</td>\n",
       "      <td>5273</td>\n",
       "      <td>6</td>\n",
       "      <td>1.0</td>\n",
       "      <td>1860.0</td>\n",
       "      <td>1.580289</td>\n",
       "      <td>22.0</td>\n",
       "      <td>1.466667</td>\n",
       "      <td>3847.0</td>\n",
       "      <td>1388.0</td>\n",
       "      <td>...</td>\n",
       "      <td>1.0</td>\n",
       "      <td>2.216014</td>\n",
       "      <td>1.726368</td>\n",
       "      <td>2.618744</td>\n",
       "      <td>5.555556</td>\n",
       "      <td>1.200000</td>\n",
       "      <td>1.000000</td>\n",
       "      <td>4.0</td>\n",
       "      <td>1.0</td>\n",
       "      <td>1.0</td>\n",
       "    </tr>\n",
       "    <tr>\n",
       "      <th>178070</th>\n",
       "      <td>16</td>\n",
       "      <td>17865</td>\n",
       "      <td>6</td>\n",
       "      <td>1.0</td>\n",
       "      <td>2898.0</td>\n",
       "      <td>1.837666</td>\n",
       "      <td>40.0</td>\n",
       "      <td>1.538462</td>\n",
       "      <td>3847.0</td>\n",
       "      <td>2168.0</td>\n",
       "      <td>...</td>\n",
       "      <td>30.0</td>\n",
       "      <td>2.216014</td>\n",
       "      <td>1.970909</td>\n",
       "      <td>1.990584</td>\n",
       "      <td>1.000000</td>\n",
       "      <td>2.972222</td>\n",
       "      <td>1.500000</td>\n",
       "      <td>1.0</td>\n",
       "      <td>1.0</td>\n",
       "      <td>1.0</td>\n",
       "    </tr>\n",
       "    <tr>\n",
       "      <th>178071</th>\n",
       "      <td>15</td>\n",
       "      <td>8195</td>\n",
       "      <td>6</td>\n",
       "      <td>2.0</td>\n",
       "      <td>2599.0</td>\n",
       "      <td>2.040031</td>\n",
       "      <td>16.0</td>\n",
       "      <td>1.230769</td>\n",
       "      <td>1785.0</td>\n",
       "      <td>1628.0</td>\n",
       "      <td>...</td>\n",
       "      <td>31.0</td>\n",
       "      <td>2.003367</td>\n",
       "      <td>1.534402</td>\n",
       "      <td>1.792564</td>\n",
       "      <td>1.000000</td>\n",
       "      <td>1.000000</td>\n",
       "      <td>1.631579</td>\n",
       "      <td>1.0</td>\n",
       "      <td>1.0</td>\n",
       "      <td>1.0</td>\n",
       "    </tr>\n",
       "    <tr>\n",
       "      <th>178072</th>\n",
       "      <td>16</td>\n",
       "      <td>3624</td>\n",
       "      <td>6</td>\n",
       "      <td>1.0</td>\n",
       "      <td>2898.0</td>\n",
       "      <td>1.837666</td>\n",
       "      <td>35.0</td>\n",
       "      <td>1.400000</td>\n",
       "      <td>1539.0</td>\n",
       "      <td>3978.0</td>\n",
       "      <td>...</td>\n",
       "      <td>-1.0</td>\n",
       "      <td>1.923750</td>\n",
       "      <td>2.098101</td>\n",
       "      <td>2.618744</td>\n",
       "      <td>3.277778</td>\n",
       "      <td>1.333333</td>\n",
       "      <td>-1.000000</td>\n",
       "      <td>1.0</td>\n",
       "      <td>2.0</td>\n",
       "      <td>-1.0</td>\n",
       "    </tr>\n",
       "  </tbody>\n",
       "</table>\n",
       "<p>5 rows × 23 columns</p>\n",
       "</div>"
      ],
      "text/plain": [
       "        shop_id  item_id  date_block_num  target  shop_block_sum  \\\n",
       "178068        4    13102               6     2.0          1378.0   \n",
       "178069       21     5273               6     1.0          1860.0   \n",
       "178070       16    17865               6     1.0          2898.0   \n",
       "178071       15     8195               6     2.0          2599.0   \n",
       "178072       16     3624               6     1.0          2898.0   \n",
       "\n",
       "        shop_block_mean  item_block_sum  item_block_mean  shop_sum_lag_1  \\\n",
       "178068         1.654262            33.0         1.375000          3847.0   \n",
       "178069         1.580289            22.0         1.466667          3847.0   \n",
       "178070         1.837666            40.0         1.538462          3847.0   \n",
       "178071         2.040031            16.0         1.230769          1785.0   \n",
       "178072         1.837666            35.0         1.400000          1539.0   \n",
       "\n",
       "        shop_sum_lag_3      ...       item_sum_lag_6  shop_mean_lag_1  \\\n",
       "178068          1375.0      ...                  9.0         2.216014   \n",
       "178069          1388.0      ...                  1.0         2.216014   \n",
       "178070          2168.0      ...                 30.0         2.216014   \n",
       "178071          1628.0      ...                 31.0         2.003367   \n",
       "178072          3978.0      ...                 -1.0         1.923750   \n",
       "\n",
       "        shop_mean_lag_3  shop_mean_lag_6  item_mean_lag_1  item_mean_lag_3  \\\n",
       "178068         1.781088         2.618744         1.200000         1.192308   \n",
       "178069         1.726368         2.618744         5.555556         1.200000   \n",
       "178070         1.970909         1.990584         1.000000         2.972222   \n",
       "178071         1.534402         1.792564         1.000000         1.000000   \n",
       "178072         2.098101         2.618744         3.277778         1.333333   \n",
       "\n",
       "        item_mean_lag_6  target_lag_1  target_lag_3  target_lag_6  \n",
       "178068         1.285714           1.0           1.0           2.0  \n",
       "178069         1.000000           4.0           1.0           1.0  \n",
       "178070         1.500000           1.0           1.0           1.0  \n",
       "178071         1.631579           1.0           1.0           1.0  \n",
       "178072        -1.000000           1.0           2.0          -1.0  \n",
       "\n",
       "[5 rows x 23 columns]"
      ]
     },
     "execution_count": 44,
     "metadata": {},
     "output_type": "execute_result"
    }
   ],
   "source": [
    "df_123.head()"
   ]
  },
  {
   "cell_type": "code",
   "execution_count": 77,
   "metadata": {
    "collapsed": true
   },
   "outputs": [],
   "source": [
    "X = df_copy_x.copy().drop('target',axis = 1)\n",
    "y  = df_copy_x.copy().loc[:,'target']"
   ]
  },
  {
   "cell_type": "code",
   "execution_count": 78,
   "metadata": {
    "collapsed": true
   },
   "outputs": [],
   "source": [
    "x_train, x_test, y_train, y_test = train_test_split(X, y, test_size = 0.25, random_state = 0)"
   ]
  },
  {
   "cell_type": "code",
   "execution_count": 79,
   "metadata": {
    "collapsed": true
   },
   "outputs": [],
   "source": [
    "d_train = lgb.Dataset(x_train, label=y_train)"
   ]
  },
  {
   "cell_type": "code",
   "execution_count": 93,
   "metadata": {
    "collapsed": true
   },
   "outputs": [],
   "source": [
    "params = {}\n",
    "params['learning_rate'] = 0.03\n",
    "params['boosting_type'] = 'gbdt'\n",
    "params['objective'] = 'regression'\n",
    "params['metric'] = 'mse'\n"
   ]
  },
  {
   "cell_type": "code",
   "execution_count": 94,
   "metadata": {
    "collapsed": true
   },
   "outputs": [],
   "source": [
    "clf = lgb.train(params, d_train, 100)"
   ]
  },
  {
   "cell_type": "code",
   "execution_count": 95,
   "metadata": {
    "collapsed": true
   },
   "outputs": [],
   "source": [
    "y_pred=clf.predict(x_test)"
   ]
  },
  {
   "cell_type": "code",
   "execution_count": 96,
   "metadata": {
    "collapsed": true
   },
   "outputs": [],
   "source": [
    "from sklearn.metrics import r2_score\n",
    "accuracy=r2_score(y_test,y_pred)"
   ]
  },
  {
   "cell_type": "code",
   "execution_count": 97,
   "metadata": {},
   "outputs": [
    {
     "data": {
      "text/plain": [
       "0.8029405033520848"
      ]
     },
     "execution_count": 97,
     "metadata": {},
     "output_type": "execute_result"
    }
   ],
   "source": [
    "accuracy"
   ]
  },
  {
   "cell_type": "code",
   "execution_count": 98,
   "metadata": {},
   "outputs": [
    {
     "data": {
      "text/plain": [
       "array([ 1.22103679,  1.77415747,  1.2053501 , ...,  3.20605224,\n",
       "        1.73560381, 13.42816779])"
      ]
     },
     "execution_count": 98,
     "metadata": {},
     "output_type": "execute_result"
    }
   ],
   "source": [
    "y_pred"
   ]
  },
  {
   "cell_type": "code",
   "execution_count": null,
   "metadata": {
    "collapsed": true
   },
   "outputs": [],
   "source": []
  }
 ],
 "metadata": {
  "kernelspec": {
   "display_name": "Python 3",
   "language": "python",
   "name": "python3"
  },
  "language_info": {
   "codemirror_mode": {
    "name": "ipython",
    "version": 3
   },
   "file_extension": ".py",
   "mimetype": "text/x-python",
   "name": "python",
   "nbconvert_exporter": "python",
   "pygments_lexer": "ipython3",
   "version": "3.6.1"
  }
 },
 "nbformat": 4,
 "nbformat_minor": 2
}
